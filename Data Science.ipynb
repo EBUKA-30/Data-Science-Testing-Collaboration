{
 "cells": [
  {
   "cell_type": "code",
   "execution_count": null,
   "id": "a78c25e5-3a6e-4ee2-aa17-c1622d55e77b",
   "metadata": {},
   "outputs": [],
   "source": [
    "name_of_Hokages= (\"Naruto\", \"Minato\", \"Tsunade\", \" Kakashi\",\"Third\" )"
   ]
  }
 ],
 "metadata": {
  "kernelspec": {
   "display_name": "Python [conda env:base] *",
   "language": "python",
   "name": "conda-base-py"
  },
  "language_info": {
   "codemirror_mode": {
    "name": "ipython",
    "version": 3
   },
   "file_extension": ".py",
   "mimetype": "text/x-python",
   "name": "python",
   "nbconvert_exporter": "python",
   "pygments_lexer": "ipython3",
   "version": "3.13.5"
  }
 },
 "nbformat": 4,
 "nbformat_minor": 5
}
