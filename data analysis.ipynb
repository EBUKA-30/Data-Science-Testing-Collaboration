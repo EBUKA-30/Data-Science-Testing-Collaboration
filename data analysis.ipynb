{
 "cells": [
  {
   "cell_type": "code",
   "execution_count": 1,
   "id": "bcfbdba8-ea95-47eb-84ce-714b47eba2af",
   "metadata": {},
   "outputs": [],
   "source": [
    "import pandas as pd\n",
    "import numpy as np\n",
    "import seaborn as sns\n",
    "import matplotlib.pyplot as plt \n",
    "import mailbox\n"
   ]
  },
  {
   "cell_type": "code",
   "execution_count": 2,
   "id": "a5678958-90ea-4149-b717-b263e756f539",
   "metadata": {},
   "outputs": [],
   "source": [
    "df= \"All mail Including Spam and Trash.mbox\""
   ]
  },
  {
   "cell_type": "code",
   "execution_count": 3,
   "id": "d1009398-65cd-4abe-beef-1b855a3b5473",
   "metadata": {},
   "outputs": [
    {
     "data": {
      "text/plain": [
       "<mailbox.mbox at 0x1c306133cb0>"
      ]
     },
     "execution_count": 3,
     "metadata": {},
     "output_type": "execute_result"
    }
   ],
   "source": [
    "mbox=mailbox.mbox(df)\n",
    "mbox"
   ]
  },
  {
   "cell_type": "code",
   "execution_count": 4,
   "id": "fc5936af-6679-499a-a87c-be2e5c62fb08",
   "metadata": {},
   "outputs": [
    {
     "name": "stdout",
     "output_type": "stream",
     "text": [
      "X-GM-THRID\n",
      "X-Gmail-Labels\n",
      "Delivered-To\n",
      "Received\n",
      "X-Google-Smtp-Source\n",
      "X-Received\n",
      "ARC-Seal\n",
      "ARC-Message-Signature\n",
      "ARC-Authentication-Results\n",
      "Return-Path\n",
      "Received\n",
      "Received-SPF\n",
      "Authentication-Results\n",
      "DKIM-Signature\n",
      "To\n",
      "Message-Id\n",
      "X-Listmonk-Subscriber\n",
      "Content-Type\n",
      "List-Unsubscribe-Post\n",
      "Content-Transfer-Encoding\n",
      "Reply-To\n",
      "Date\n",
      "List-Unsubscribe\n",
      "Subject\n",
      "From\n",
      "Mime-Version\n",
      "X-Listmonk-Campaign\n"
     ]
    }
   ],
   "source": [
    "for key in mbox[0].keys():\n",
    "    print(key)"
   ]
  },
  {
   "cell_type": "code",
   "execution_count": 5,
   "id": "6cda04be-7a5c-460e-a9a7-d2fd72a22b7c",
   "metadata": {},
   "outputs": [],
   "source": [
    "import csv"
   ]
  },
  {
   "cell_type": "code",
   "execution_count": 6,
   "id": "7487f2ca-7595-4a62-aad2-093d20d49ec9",
   "metadata": {},
   "outputs": [],
   "source": [
    "with open(\"mailbox.csv\", \"w\")as outputfile : \n",
    "    writer = csv.writer (outputfile)\n",
    "    writer. writerow(['subject', 'from','date', 'to', 'label', 'thread'])\n",
    "    for message in mbox:\n",
    "        writer.writerow([\n",
    "            message['subject'], message ['from'], message['date'],\n",
    "            message['to'], message['X-Gmail-labels'],message['X-GM-THRID']\n",
    "        ])"
   ]
  },
  {
   "cell_type": "code",
   "execution_count": 7,
   "id": "5d5c15c3-3d8b-453a-9a35-76d1a3641f55",
   "metadata": {},
   "outputs": [
    {
     "data": {
      "text/html": [
       "<div>\n",
       "<style scoped>\n",
       "    .dataframe tbody tr th:only-of-type {\n",
       "        vertical-align: middle;\n",
       "    }\n",
       "\n",
       "    .dataframe tbody tr th {\n",
       "        vertical-align: top;\n",
       "    }\n",
       "\n",
       "    .dataframe thead th {\n",
       "        text-align: right;\n",
       "    }\n",
       "</style>\n",
       "<table border=\"1\" class=\"dataframe\">\n",
       "  <thead>\n",
       "    <tr style=\"text-align: right;\">\n",
       "      <th></th>\n",
       "      <th>subject</th>\n",
       "      <th>from</th>\n",
       "      <th>date</th>\n",
       "      <th>to</th>\n",
       "      <th>label</th>\n",
       "      <th>thread</th>\n",
       "    </tr>\n",
       "  </thead>\n",
       "  <tbody>\n",
       "    <tr>\n",
       "      <th>0</th>\n",
       "      <td>Raw Action Solves Everything</td>\n",
       "      <td>\"Andrew Tate\" &lt;tate@cobratate.com&gt;</td>\n",
       "      <td>Sun, 27 Jul 2025 21:20:27 +0000</td>\n",
       "      <td>&lt;kacedexter143@gmail.com&gt;</td>\n",
       "      <td>Inbox,Category updates,Unread</td>\n",
       "      <td>1838838965423480180</td>\n",
       "    </tr>\n",
       "    <tr>\n",
       "      <th>1</th>\n",
       "      <td>Private Code For Clients Only</td>\n",
       "      <td>\"Pocket Option\" &lt;noreply@pocketoption.com&gt;</td>\n",
       "      <td>Tue, 29 Jul 2025 12:56:17 +0000</td>\n",
       "      <td>&lt;kacedexter143@gmail.com&gt;</td>\n",
       "      <td>Inbox,Category promotions,Unread</td>\n",
       "      <td>1838986065838340609</td>\n",
       "    </tr>\n",
       "    <tr>\n",
       "      <th>2</th>\n",
       "      <td>=?utf-8?Q?=F0=9F=94=A5_This_Weekend_Only:_QUEE...</td>\n",
       "      <td>TBN &lt;email@m.tbn.tv&gt;</td>\n",
       "      <td>Sat, 19 Jul 2025 06:24:06 -0700</td>\n",
       "      <td>kacedexter143@gmail.com</td>\n",
       "      <td>Inbox,Category promotions,Unread</td>\n",
       "      <td>1838081844615627127</td>\n",
       "    </tr>\n",
       "    <tr>\n",
       "      <th>3</th>\n",
       "      <td>Share some quick feedback?</td>\n",
       "      <td>Twilio Customer Experience &lt;twilio@qualtrics-s...</td>\n",
       "      <td>Wed, 23 Jul 2025 01:05:47 -0600 (MDT)</td>\n",
       "      <td>Ebuka Ofonegbu &lt;kacedexter143@gmail.com&gt;</td>\n",
       "      <td>Inbox,Category promotions,Unread</td>\n",
       "      <td>1838420431011414792</td>\n",
       "    </tr>\n",
       "    <tr>\n",
       "      <th>4</th>\n",
       "      <td>Smile.</td>\n",
       "      <td>\"Andrew Tate\" &lt;tate@cobratate.com&gt;</td>\n",
       "      <td>Fri, 25 Jul 2025 19:48:11 +0000</td>\n",
       "      <td>&lt;kacedexter143@gmail.com&gt;</td>\n",
       "      <td>Inbox,Category updates,Unread</td>\n",
       "      <td>1838650621850828405</td>\n",
       "    </tr>\n",
       "  </tbody>\n",
       "</table>\n",
       "</div>"
      ],
      "text/plain": [
       "                                             subject  \\\n",
       "0                       Raw Action Solves Everything   \n",
       "1                      Private Code For Clients Only   \n",
       "2  =?utf-8?Q?=F0=9F=94=A5_This_Weekend_Only:_QUEE...   \n",
       "3                         Share some quick feedback?   \n",
       "4                                             Smile.   \n",
       "\n",
       "                                                from  \\\n",
       "0                 \"Andrew Tate\" <tate@cobratate.com>   \n",
       "1         \"Pocket Option\" <noreply@pocketoption.com>   \n",
       "2                               TBN <email@m.tbn.tv>   \n",
       "3  Twilio Customer Experience <twilio@qualtrics-s...   \n",
       "4                 \"Andrew Tate\" <tate@cobratate.com>   \n",
       "\n",
       "                                    date  \\\n",
       "0        Sun, 27 Jul 2025 21:20:27 +0000   \n",
       "1        Tue, 29 Jul 2025 12:56:17 +0000   \n",
       "2        Sat, 19 Jul 2025 06:24:06 -0700   \n",
       "3  Wed, 23 Jul 2025 01:05:47 -0600 (MDT)   \n",
       "4        Fri, 25 Jul 2025 19:48:11 +0000   \n",
       "\n",
       "                                         to                             label  \\\n",
       "0                 <kacedexter143@gmail.com>     Inbox,Category updates,Unread   \n",
       "1                 <kacedexter143@gmail.com>  Inbox,Category promotions,Unread   \n",
       "2                   kacedexter143@gmail.com  Inbox,Category promotions,Unread   \n",
       "3  Ebuka Ofonegbu <kacedexter143@gmail.com>  Inbox,Category promotions,Unread   \n",
       "4                 <kacedexter143@gmail.com>     Inbox,Category updates,Unread   \n",
       "\n",
       "                thread  \n",
       "0  1838838965423480180  \n",
       "1  1838986065838340609  \n",
       "2  1838081844615627127  \n",
       "3  1838420431011414792  \n",
       "4  1838650621850828405  "
      ]
     },
     "execution_count": 7,
     "metadata": {},
     "output_type": "execute_result"
    }
   ],
   "source": [
    "gmail_data =pd.read_csv('mailbox.csv')\n",
    "gmail_data.head()"
   ]
  },
  {
   "cell_type": "code",
   "execution_count": 8,
   "id": "dc008a20-994e-4ad2-b134-1855360d394f",
   "metadata": {},
   "outputs": [
    {
     "name": "stdout",
     "output_type": "stream",
     "text": [
      "<class 'pandas.core.frame.DataFrame'>\n",
      "RangeIndex: 7806 entries, 0 to 7805\n",
      "Data columns (total 6 columns):\n",
      " #   Column   Non-Null Count  Dtype \n",
      "---  ------   --------------  ----- \n",
      " 0   subject  7789 non-null   object\n",
      " 1   from     7806 non-null   object\n",
      " 2   date     7806 non-null   object\n",
      " 3   to       7800 non-null   object\n",
      " 4   label    7806 non-null   object\n",
      " 5   thread   7806 non-null   int64 \n",
      "dtypes: int64(1), object(5)\n",
      "memory usage: 366.0+ KB\n"
     ]
    }
   ],
   "source": [
    "gmail_data.info()"
   ]
  },
  {
   "cell_type": "code",
   "execution_count": 9,
   "id": "336b5343-4233-43ef-9c73-6bef78b20763",
   "metadata": {},
   "outputs": [
    {
     "data": {
      "text/plain": [
       "0    Sun, 27 Jul 2025 21:20:27 +0000\n",
       "1    Tue, 29 Jul 2025 12:56:17 +0000\n",
       "2    Sat, 19 Jul 2025 06:24:06 -0700\n",
       "Name: date, dtype: object"
      ]
     },
     "execution_count": 9,
     "metadata": {},
     "output_type": "execute_result"
    }
   ],
   "source": [
    "gmail_data['date'].head(3)"
   ]
  },
  {
   "cell_type": "code",
   "execution_count": 10,
   "id": "ca0d1e73-9443-4b83-aef6-791002761e5d",
   "metadata": {},
   "outputs": [
    {
     "name": "stderr",
     "output_type": "stream",
     "text": [
      "C:\\Users\\ebuka\\AppData\\Local\\Temp\\ipykernel_4972\\3489125595.py:1: FutureWarning: Parsed string \"Wed, 04 May 2022 19:30:03 CEST\" included an un-recognized timezone \"CEST\". Dropping unrecognized timezones is deprecated; in a future version this will raise. Instead pass the string without the timezone, then use .tz_localize to convert to a recognized timezone.\n",
      "  gmail_data[\"date\"] = gmail_data[\"date\"].apply(lambda x: pd.to_datetime(x, errors = \"coerce\", utc = True))\n",
      "C:\\Users\\ebuka\\AppData\\Local\\Temp\\ipykernel_4972\\3489125595.py:1: FutureWarning: Parsed string \"Sun, 01 May 2022 17:54:05 CEST\" included an un-recognized timezone \"CEST\". Dropping unrecognized timezones is deprecated; in a future version this will raise. Instead pass the string without the timezone, then use .tz_localize to convert to a recognized timezone.\n",
      "  gmail_data[\"date\"] = gmail_data[\"date\"].apply(lambda x: pd.to_datetime(x, errors = \"coerce\", utc = True))\n",
      "C:\\Users\\ebuka\\AppData\\Local\\Temp\\ipykernel_4972\\3489125595.py:1: FutureWarning: Parsed string \"Fri, 30 Sep 2022 21:05:01 CEST\" included an un-recognized timezone \"CEST\". Dropping unrecognized timezones is deprecated; in a future version this will raise. Instead pass the string without the timezone, then use .tz_localize to convert to a recognized timezone.\n",
      "  gmail_data[\"date\"] = gmail_data[\"date\"].apply(lambda x: pd.to_datetime(x, errors = \"coerce\", utc = True))\n",
      "C:\\Users\\ebuka\\AppData\\Local\\Temp\\ipykernel_4972\\3489125595.py:1: FutureWarning: Parsed string \"Wed, 04 May 2022 15:16:49 CEST\" included an un-recognized timezone \"CEST\". Dropping unrecognized timezones is deprecated; in a future version this will raise. Instead pass the string without the timezone, then use .tz_localize to convert to a recognized timezone.\n",
      "  gmail_data[\"date\"] = gmail_data[\"date\"].apply(lambda x: pd.to_datetime(x, errors = \"coerce\", utc = True))\n",
      "C:\\Users\\ebuka\\AppData\\Local\\Temp\\ipykernel_4972\\3489125595.py:1: FutureWarning: Parsed string \"Sat, 03 Dec 2022 02:20:00 CET\" included an un-recognized timezone \"CET\". Dropping unrecognized timezones is deprecated; in a future version this will raise. Instead pass the string without the timezone, then use .tz_localize to convert to a recognized timezone.\n",
      "  gmail_data[\"date\"] = gmail_data[\"date\"].apply(lambda x: pd.to_datetime(x, errors = \"coerce\", utc = True))\n"
     ]
    }
   ],
   "source": [
    "gmail_data[\"date\"] = gmail_data[\"date\"].apply(lambda x: pd.to_datetime(x, errors = \"coerce\", utc = True))"
   ]
  },
  {
   "cell_type": "code",
   "execution_count": 11,
   "id": "2b118f7a-86d3-4513-af1c-f2df96694012",
   "metadata": {},
   "outputs": [
    {
     "data": {
      "text/plain": [
       "0   2025-07-27 21:20:27+00:00\n",
       "1   2025-07-29 12:56:17+00:00\n",
       "2   2025-07-19 13:24:06+00:00\n",
       "Name: date, dtype: datetime64[ns, UTC]"
      ]
     },
     "execution_count": 11,
     "metadata": {},
     "output_type": "execute_result"
    }
   ],
   "source": [
    "gmail_data[\"date\"].head(3)"
   ]
  },
  {
   "cell_type": "code",
   "execution_count": 12,
   "id": "f2bfd9a5-0ac5-479c-8eab-14ab34bc3264",
   "metadata": {},
   "outputs": [
    {
     "name": "stdout",
     "output_type": "stream",
     "text": [
      "<class 'pandas.core.frame.DataFrame'>\n",
      "RangeIndex: 7806 entries, 0 to 7805\n",
      "Data columns (total 6 columns):\n",
      " #   Column   Non-Null Count  Dtype              \n",
      "---  ------   --------------  -----              \n",
      " 0   subject  7789 non-null   object             \n",
      " 1   from     7806 non-null   object             \n",
      " 2   date     7806 non-null   datetime64[ns, UTC]\n",
      " 3   to       7800 non-null   object             \n",
      " 4   label    7806 non-null   object             \n",
      " 5   thread   7806 non-null   int64              \n",
      "dtypes: datetime64[ns, UTC](1), int64(1), object(4)\n",
      "memory usage: 366.0+ KB\n"
     ]
    }
   ],
   "source": [
    "gmail_data.info()"
   ]
  },
  {
   "cell_type": "code",
   "execution_count": 13,
   "id": "af9e7378-03fb-4e13-b704-8c1ceefda9a2",
   "metadata": {},
   "outputs": [
    {
     "data": {
      "text/plain": [
       "0                   \"Andrew Tate\" <tate@cobratate.com>\n",
       "1           \"Pocket Option\" <noreply@pocketoption.com>\n",
       "2                                 TBN <email@m.tbn.tv>\n",
       "3    Twilio Customer Experience <twilio@qualtrics-s...\n",
       "4                   \"Andrew Tate\" <tate@cobratate.com>\n",
       "Name: from, dtype: object"
      ]
     },
     "execution_count": 13,
     "metadata": {},
     "output_type": "execute_result"
    }
   ],
   "source": [
    "gmail_data[\"from\"].head()"
   ]
  },
  {
   "cell_type": "code",
   "execution_count": 14,
   "id": "3166fc46-2441-4b4c-afbb-796ece28df31",
   "metadata": {},
   "outputs": [],
   "source": [
    "import re "
   ]
  },
  {
   "cell_type": "code",
   "execution_count": 15,
   "id": "1772a6da-1121-43c0-ba80-20a2af5535df",
   "metadata": {},
   "outputs": [],
   "source": [
    "def extract_email_ID(string):\n",
    "    email= re.findall(r'<(.+?>', string)\n",
    "    if not email:\n",
    "        email=list (filter(lambda y: '@' in y, string.split()))\n",
    "    return email[0] if email else np.nan    "
   ]
  },
  {
   "cell_type": "code",
   "execution_count": 68,
   "id": "3253f148-69b1-41d9-a7eb-14aef651b3fb",
   "metadata": {},
   "outputs": [
    {
     "ename": "PatternError",
     "evalue": "missing ), unterminated subpattern at position 1",
     "output_type": "error",
     "traceback": [
      "\u001b[1;31m---------------------------------------------------------------------------\u001b[0m",
      "\u001b[1;31mPatternError\u001b[0m                              Traceback (most recent call last)",
      "Cell \u001b[1;32mIn[68], line 1\u001b[0m\n\u001b[1;32m----> 1\u001b[0m gmail_data[\u001b[38;5;124m'\u001b[39m\u001b[38;5;124mfrom\u001b[39m\u001b[38;5;124m'\u001b[39m] \u001b[38;5;241m=\u001b[39m gmail_data[\u001b[38;5;124m'\u001b[39m\u001b[38;5;124mfrom\u001b[39m\u001b[38;5;124m'\u001b[39m]\u001b[38;5;241m.\u001b[39mapply(\u001b[38;5;28;01mlambda\u001b[39;00m x: extract_email_ID(x))\n",
      "File \u001b[1;32m~\\anaconda3\\Lib\\site-packages\\pandas\\core\\series.py:4924\u001b[0m, in \u001b[0;36mSeries.apply\u001b[1;34m(self, func, convert_dtype, args, by_row, **kwargs)\u001b[0m\n\u001b[0;32m   4789\u001b[0m \u001b[38;5;28;01mdef\u001b[39;00m\u001b[38;5;250m \u001b[39m\u001b[38;5;21mapply\u001b[39m(\n\u001b[0;32m   4790\u001b[0m     \u001b[38;5;28mself\u001b[39m,\n\u001b[0;32m   4791\u001b[0m     func: AggFuncType,\n\u001b[1;32m   (...)\u001b[0m\n\u001b[0;32m   4796\u001b[0m     \u001b[38;5;241m*\u001b[39m\u001b[38;5;241m*\u001b[39mkwargs,\n\u001b[0;32m   4797\u001b[0m ) \u001b[38;5;241m-\u001b[39m\u001b[38;5;241m>\u001b[39m DataFrame \u001b[38;5;241m|\u001b[39m Series:\n\u001b[0;32m   4798\u001b[0m \u001b[38;5;250m    \u001b[39m\u001b[38;5;124;03m\"\"\"\u001b[39;00m\n\u001b[0;32m   4799\u001b[0m \u001b[38;5;124;03m    Invoke function on values of Series.\u001b[39;00m\n\u001b[0;32m   4800\u001b[0m \n\u001b[1;32m   (...)\u001b[0m\n\u001b[0;32m   4915\u001b[0m \u001b[38;5;124;03m    dtype: float64\u001b[39;00m\n\u001b[0;32m   4916\u001b[0m \u001b[38;5;124;03m    \"\"\"\u001b[39;00m\n\u001b[0;32m   4917\u001b[0m     \u001b[38;5;28;01mreturn\u001b[39;00m SeriesApply(\n\u001b[0;32m   4918\u001b[0m         \u001b[38;5;28mself\u001b[39m,\n\u001b[0;32m   4919\u001b[0m         func,\n\u001b[0;32m   4920\u001b[0m         convert_dtype\u001b[38;5;241m=\u001b[39mconvert_dtype,\n\u001b[0;32m   4921\u001b[0m         by_row\u001b[38;5;241m=\u001b[39mby_row,\n\u001b[0;32m   4922\u001b[0m         args\u001b[38;5;241m=\u001b[39margs,\n\u001b[0;32m   4923\u001b[0m         kwargs\u001b[38;5;241m=\u001b[39mkwargs,\n\u001b[1;32m-> 4924\u001b[0m     )\u001b[38;5;241m.\u001b[39mapply()\n",
      "File \u001b[1;32m~\\anaconda3\\Lib\\site-packages\\pandas\\core\\apply.py:1427\u001b[0m, in \u001b[0;36mSeriesApply.apply\u001b[1;34m(self)\u001b[0m\n\u001b[0;32m   1424\u001b[0m     \u001b[38;5;28;01mreturn\u001b[39;00m \u001b[38;5;28mself\u001b[39m\u001b[38;5;241m.\u001b[39mapply_compat()\n\u001b[0;32m   1426\u001b[0m \u001b[38;5;66;03m# self.func is Callable\u001b[39;00m\n\u001b[1;32m-> 1427\u001b[0m \u001b[38;5;28;01mreturn\u001b[39;00m \u001b[38;5;28mself\u001b[39m\u001b[38;5;241m.\u001b[39mapply_standard()\n",
      "File \u001b[1;32m~\\anaconda3\\Lib\\site-packages\\pandas\\core\\apply.py:1507\u001b[0m, in \u001b[0;36mSeriesApply.apply_standard\u001b[1;34m(self)\u001b[0m\n\u001b[0;32m   1501\u001b[0m \u001b[38;5;66;03m# row-wise access\u001b[39;00m\n\u001b[0;32m   1502\u001b[0m \u001b[38;5;66;03m# apply doesn't have a `na_action` keyword and for backward compat reasons\u001b[39;00m\n\u001b[0;32m   1503\u001b[0m \u001b[38;5;66;03m# we need to give `na_action=\"ignore\"` for categorical data.\u001b[39;00m\n\u001b[0;32m   1504\u001b[0m \u001b[38;5;66;03m# TODO: remove the `na_action=\"ignore\"` when that default has been changed in\u001b[39;00m\n\u001b[0;32m   1505\u001b[0m \u001b[38;5;66;03m#  Categorical (GH51645).\u001b[39;00m\n\u001b[0;32m   1506\u001b[0m action \u001b[38;5;241m=\u001b[39m \u001b[38;5;124m\"\u001b[39m\u001b[38;5;124mignore\u001b[39m\u001b[38;5;124m\"\u001b[39m \u001b[38;5;28;01mif\u001b[39;00m \u001b[38;5;28misinstance\u001b[39m(obj\u001b[38;5;241m.\u001b[39mdtype, CategoricalDtype) \u001b[38;5;28;01melse\u001b[39;00m \u001b[38;5;28;01mNone\u001b[39;00m\n\u001b[1;32m-> 1507\u001b[0m mapped \u001b[38;5;241m=\u001b[39m obj\u001b[38;5;241m.\u001b[39m_map_values(\n\u001b[0;32m   1508\u001b[0m     mapper\u001b[38;5;241m=\u001b[39mcurried, na_action\u001b[38;5;241m=\u001b[39maction, convert\u001b[38;5;241m=\u001b[39m\u001b[38;5;28mself\u001b[39m\u001b[38;5;241m.\u001b[39mconvert_dtype\n\u001b[0;32m   1509\u001b[0m )\n\u001b[0;32m   1511\u001b[0m \u001b[38;5;28;01mif\u001b[39;00m \u001b[38;5;28mlen\u001b[39m(mapped) \u001b[38;5;129;01mand\u001b[39;00m \u001b[38;5;28misinstance\u001b[39m(mapped[\u001b[38;5;241m0\u001b[39m], ABCSeries):\n\u001b[0;32m   1512\u001b[0m     \u001b[38;5;66;03m# GH#43986 Need to do list(mapped) in order to get treated as nested\u001b[39;00m\n\u001b[0;32m   1513\u001b[0m     \u001b[38;5;66;03m#  See also GH#25959 regarding EA support\u001b[39;00m\n\u001b[0;32m   1514\u001b[0m     \u001b[38;5;28;01mreturn\u001b[39;00m obj\u001b[38;5;241m.\u001b[39m_constructor_expanddim(\u001b[38;5;28mlist\u001b[39m(mapped), index\u001b[38;5;241m=\u001b[39mobj\u001b[38;5;241m.\u001b[39mindex)\n",
      "File \u001b[1;32m~\\anaconda3\\Lib\\site-packages\\pandas\\core\\base.py:921\u001b[0m, in \u001b[0;36mIndexOpsMixin._map_values\u001b[1;34m(self, mapper, na_action, convert)\u001b[0m\n\u001b[0;32m    918\u001b[0m \u001b[38;5;28;01mif\u001b[39;00m \u001b[38;5;28misinstance\u001b[39m(arr, ExtensionArray):\n\u001b[0;32m    919\u001b[0m     \u001b[38;5;28;01mreturn\u001b[39;00m arr\u001b[38;5;241m.\u001b[39mmap(mapper, na_action\u001b[38;5;241m=\u001b[39mna_action)\n\u001b[1;32m--> 921\u001b[0m \u001b[38;5;28;01mreturn\u001b[39;00m algorithms\u001b[38;5;241m.\u001b[39mmap_array(arr, mapper, na_action\u001b[38;5;241m=\u001b[39mna_action, convert\u001b[38;5;241m=\u001b[39mconvert)\n",
      "File \u001b[1;32m~\\anaconda3\\Lib\\site-packages\\pandas\\core\\algorithms.py:1743\u001b[0m, in \u001b[0;36mmap_array\u001b[1;34m(arr, mapper, na_action, convert)\u001b[0m\n\u001b[0;32m   1741\u001b[0m values \u001b[38;5;241m=\u001b[39m arr\u001b[38;5;241m.\u001b[39mastype(\u001b[38;5;28mobject\u001b[39m, copy\u001b[38;5;241m=\u001b[39m\u001b[38;5;28;01mFalse\u001b[39;00m)\n\u001b[0;32m   1742\u001b[0m \u001b[38;5;28;01mif\u001b[39;00m na_action \u001b[38;5;129;01mis\u001b[39;00m \u001b[38;5;28;01mNone\u001b[39;00m:\n\u001b[1;32m-> 1743\u001b[0m     \u001b[38;5;28;01mreturn\u001b[39;00m lib\u001b[38;5;241m.\u001b[39mmap_infer(values, mapper, convert\u001b[38;5;241m=\u001b[39mconvert)\n\u001b[0;32m   1744\u001b[0m \u001b[38;5;28;01melse\u001b[39;00m:\n\u001b[0;32m   1745\u001b[0m     \u001b[38;5;28;01mreturn\u001b[39;00m lib\u001b[38;5;241m.\u001b[39mmap_infer_mask(\n\u001b[0;32m   1746\u001b[0m         values, mapper, mask\u001b[38;5;241m=\u001b[39misna(values)\u001b[38;5;241m.\u001b[39mview(np\u001b[38;5;241m.\u001b[39muint8), convert\u001b[38;5;241m=\u001b[39mconvert\n\u001b[0;32m   1747\u001b[0m     )\n",
      "File \u001b[1;32mlib.pyx:2972\u001b[0m, in \u001b[0;36mpandas._libs.lib.map_infer\u001b[1;34m()\u001b[0m\n",
      "Cell \u001b[1;32mIn[68], line 1\u001b[0m, in \u001b[0;36m<lambda>\u001b[1;34m(x)\u001b[0m\n\u001b[1;32m----> 1\u001b[0m gmail_data[\u001b[38;5;124m'\u001b[39m\u001b[38;5;124mfrom\u001b[39m\u001b[38;5;124m'\u001b[39m] \u001b[38;5;241m=\u001b[39m gmail_data[\u001b[38;5;124m'\u001b[39m\u001b[38;5;124mfrom\u001b[39m\u001b[38;5;124m'\u001b[39m]\u001b[38;5;241m.\u001b[39mapply(\u001b[38;5;28;01mlambda\u001b[39;00m x: extract_email_ID(x))\n",
      "Cell \u001b[1;32mIn[67], line 2\u001b[0m, in \u001b[0;36mextract_email_ID\u001b[1;34m(string)\u001b[0m\n\u001b[0;32m      1\u001b[0m \u001b[38;5;28;01mdef\u001b[39;00m\u001b[38;5;250m \u001b[39m\u001b[38;5;21mextract_email_ID\u001b[39m(string):\n\u001b[1;32m----> 2\u001b[0m     email\u001b[38;5;241m=\u001b[39m re\u001b[38;5;241m.\u001b[39mfindall(\u001b[38;5;124mr\u001b[39m\u001b[38;5;124m'\u001b[39m\u001b[38;5;124m<(.+?>\u001b[39m\u001b[38;5;124m'\u001b[39m, string)\n\u001b[0;32m      3\u001b[0m     \u001b[38;5;28;01mif\u001b[39;00m \u001b[38;5;129;01mnot\u001b[39;00m email:\n\u001b[0;32m      4\u001b[0m         email\u001b[38;5;241m=\u001b[39m\u001b[38;5;28mlist\u001b[39m (\u001b[38;5;28mfilter\u001b[39m(\u001b[38;5;28;01mlambda\u001b[39;00m y: \u001b[38;5;124m'\u001b[39m\u001b[38;5;124m@\u001b[39m\u001b[38;5;124m'\u001b[39m \u001b[38;5;129;01min\u001b[39;00m y, string\u001b[38;5;241m.\u001b[39msplit()))\n",
      "File \u001b[1;32m~\\anaconda3\\Lib\\re\\__init__.py:278\u001b[0m, in \u001b[0;36mfindall\u001b[1;34m(pattern, string, flags)\u001b[0m\n\u001b[0;32m    270\u001b[0m \u001b[38;5;28;01mdef\u001b[39;00m\u001b[38;5;250m \u001b[39m\u001b[38;5;21mfindall\u001b[39m(pattern, string, flags\u001b[38;5;241m=\u001b[39m\u001b[38;5;241m0\u001b[39m):\n\u001b[0;32m    271\u001b[0m \u001b[38;5;250m    \u001b[39m\u001b[38;5;124;03m\"\"\"Return a list of all non-overlapping matches in the string.\u001b[39;00m\n\u001b[0;32m    272\u001b[0m \n\u001b[0;32m    273\u001b[0m \u001b[38;5;124;03m    If one or more capturing groups are present in the pattern, return\u001b[39;00m\n\u001b[1;32m   (...)\u001b[0m\n\u001b[0;32m    276\u001b[0m \n\u001b[0;32m    277\u001b[0m \u001b[38;5;124;03m    Empty matches are included in the result.\"\"\"\u001b[39;00m\n\u001b[1;32m--> 278\u001b[0m     \u001b[38;5;28;01mreturn\u001b[39;00m _compile(pattern, flags)\u001b[38;5;241m.\u001b[39mfindall(string)\n",
      "File \u001b[1;32m~\\anaconda3\\Lib\\re\\__init__.py:350\u001b[0m, in \u001b[0;36m_compile\u001b[1;34m(pattern, flags)\u001b[0m\n\u001b[0;32m    348\u001b[0m \u001b[38;5;28;01mif\u001b[39;00m \u001b[38;5;129;01mnot\u001b[39;00m _compiler\u001b[38;5;241m.\u001b[39misstring(pattern):\n\u001b[0;32m    349\u001b[0m     \u001b[38;5;28;01mraise\u001b[39;00m \u001b[38;5;167;01mTypeError\u001b[39;00m(\u001b[38;5;124m\"\u001b[39m\u001b[38;5;124mfirst argument must be string or compiled pattern\u001b[39m\u001b[38;5;124m\"\u001b[39m)\n\u001b[1;32m--> 350\u001b[0m p \u001b[38;5;241m=\u001b[39m _compiler\u001b[38;5;241m.\u001b[39mcompile(pattern, flags)\n\u001b[0;32m    351\u001b[0m \u001b[38;5;28;01mif\u001b[39;00m flags \u001b[38;5;241m&\u001b[39m DEBUG:\n\u001b[0;32m    352\u001b[0m     \u001b[38;5;28;01mreturn\u001b[39;00m p\n",
      "File \u001b[1;32m~\\anaconda3\\Lib\\re\\_compiler.py:748\u001b[0m, in \u001b[0;36mcompile\u001b[1;34m(p, flags)\u001b[0m\n\u001b[0;32m    746\u001b[0m \u001b[38;5;28;01mif\u001b[39;00m isstring(p):\n\u001b[0;32m    747\u001b[0m     pattern \u001b[38;5;241m=\u001b[39m p\n\u001b[1;32m--> 748\u001b[0m     p \u001b[38;5;241m=\u001b[39m _parser\u001b[38;5;241m.\u001b[39mparse(p, flags)\n\u001b[0;32m    749\u001b[0m \u001b[38;5;28;01melse\u001b[39;00m:\n\u001b[0;32m    750\u001b[0m     pattern \u001b[38;5;241m=\u001b[39m \u001b[38;5;28;01mNone\u001b[39;00m\n",
      "File \u001b[1;32m~\\anaconda3\\Lib\\re\\_parser.py:980\u001b[0m, in \u001b[0;36mparse\u001b[1;34m(str, flags, state)\u001b[0m\n\u001b[0;32m    977\u001b[0m state\u001b[38;5;241m.\u001b[39mflags \u001b[38;5;241m=\u001b[39m flags\n\u001b[0;32m    978\u001b[0m state\u001b[38;5;241m.\u001b[39mstr \u001b[38;5;241m=\u001b[39m \u001b[38;5;28mstr\u001b[39m\n\u001b[1;32m--> 980\u001b[0m p \u001b[38;5;241m=\u001b[39m _parse_sub(source, state, flags \u001b[38;5;241m&\u001b[39m SRE_FLAG_VERBOSE, \u001b[38;5;241m0\u001b[39m)\n\u001b[0;32m    981\u001b[0m p\u001b[38;5;241m.\u001b[39mstate\u001b[38;5;241m.\u001b[39mflags \u001b[38;5;241m=\u001b[39m fix_flags(\u001b[38;5;28mstr\u001b[39m, p\u001b[38;5;241m.\u001b[39mstate\u001b[38;5;241m.\u001b[39mflags)\n\u001b[0;32m    983\u001b[0m \u001b[38;5;28;01mif\u001b[39;00m source\u001b[38;5;241m.\u001b[39mnext \u001b[38;5;129;01mis\u001b[39;00m \u001b[38;5;129;01mnot\u001b[39;00m \u001b[38;5;28;01mNone\u001b[39;00m:\n",
      "File \u001b[1;32m~\\anaconda3\\Lib\\re\\_parser.py:459\u001b[0m, in \u001b[0;36m_parse_sub\u001b[1;34m(source, state, verbose, nested)\u001b[0m\n\u001b[0;32m    457\u001b[0m start \u001b[38;5;241m=\u001b[39m source\u001b[38;5;241m.\u001b[39mtell()\n\u001b[0;32m    458\u001b[0m \u001b[38;5;28;01mwhile\u001b[39;00m \u001b[38;5;28;01mTrue\u001b[39;00m:\n\u001b[1;32m--> 459\u001b[0m     itemsappend(_parse(source, state, verbose, nested \u001b[38;5;241m+\u001b[39m \u001b[38;5;241m1\u001b[39m,\n\u001b[0;32m    460\u001b[0m                        \u001b[38;5;129;01mnot\u001b[39;00m nested \u001b[38;5;129;01mand\u001b[39;00m \u001b[38;5;129;01mnot\u001b[39;00m items))\n\u001b[0;32m    461\u001b[0m     \u001b[38;5;28;01mif\u001b[39;00m \u001b[38;5;129;01mnot\u001b[39;00m sourcematch(\u001b[38;5;124m\"\u001b[39m\u001b[38;5;124m|\u001b[39m\u001b[38;5;124m\"\u001b[39m):\n\u001b[0;32m    462\u001b[0m         \u001b[38;5;28;01mbreak\u001b[39;00m\n",
      "File \u001b[1;32m~\\anaconda3\\Lib\\re\\_parser.py:865\u001b[0m, in \u001b[0;36m_parse\u001b[1;34m(source, state, verbose, nested, first)\u001b[0m\n\u001b[0;32m    863\u001b[0m p \u001b[38;5;241m=\u001b[39m _parse_sub(source, state, sub_verbose, nested \u001b[38;5;241m+\u001b[39m \u001b[38;5;241m1\u001b[39m)\n\u001b[0;32m    864\u001b[0m \u001b[38;5;28;01mif\u001b[39;00m \u001b[38;5;129;01mnot\u001b[39;00m source\u001b[38;5;241m.\u001b[39mmatch(\u001b[38;5;124m\"\u001b[39m\u001b[38;5;124m)\u001b[39m\u001b[38;5;124m\"\u001b[39m):\n\u001b[1;32m--> 865\u001b[0m     \u001b[38;5;28;01mraise\u001b[39;00m source\u001b[38;5;241m.\u001b[39merror(\u001b[38;5;124m\"\u001b[39m\u001b[38;5;124mmissing ), unterminated subpattern\u001b[39m\u001b[38;5;124m\"\u001b[39m,\n\u001b[0;32m    866\u001b[0m                        source\u001b[38;5;241m.\u001b[39mtell() \u001b[38;5;241m-\u001b[39m start)\n\u001b[0;32m    867\u001b[0m \u001b[38;5;28;01mif\u001b[39;00m group \u001b[38;5;129;01mis\u001b[39;00m \u001b[38;5;129;01mnot\u001b[39;00m \u001b[38;5;28;01mNone\u001b[39;00m:\n\u001b[0;32m    868\u001b[0m     state\u001b[38;5;241m.\u001b[39mclosegroup(group, p)\n",
      "\u001b[1;31mPatternError\u001b[0m: missing ), unterminated subpattern at position 1"
     ]
    }
   ],
   "source": [
    "gmail_data['from'] = gmail_data['from'].apply(lambda x: extract_email_ID(x))"
   ]
  },
  {
   "cell_type": "code",
   "execution_count": 69,
   "id": "2abb2276-838b-478b-9664-cd04a0cbd002",
   "metadata": {},
   "outputs": [
    {
     "data": {
      "text/plain": [
       "0            \"Andrew Tate\" <tate@cobratate.com>\n",
       "1    \"Pocket Option\" <noreply@pocketoption.com>\n",
       "Name: from, dtype: object"
      ]
     },
     "execution_count": 69,
     "metadata": {},
     "output_type": "execute_result"
    }
   ],
   "source": [
    "gmail_data['from'].head(2)"
   ]
  },
  {
   "cell_type": "code",
   "execution_count": 70,
   "id": "be9bf32e-a0d9-4d30-a57a-9fe506c9a841",
   "metadata": {},
   "outputs": [
    {
     "data": {
      "text/plain": [
       "array(['Inbox,Category updates,Unread',\n",
       "       'Inbox,Category promotions,Unread',\n",
       "       'Inbox,Important,Category updates,Unread',\n",
       "       'Category purchases,Inbox,Category updates,Unread',\n",
       "       'Bin,Category updates,Unread', 'Inbox,Opened,Category updates',\n",
       "       'Inbox,Category personal,Unread',\n",
       "       'Inbox,Important,Opened,Category personal',\n",
       "       'Inbox,Important,Opened,Category updates',\n",
       "       'Bin,Opened,Category updates', 'Inbox,Opened,Category personal',\n",
       "       'Important,Bin,Category updates,Unread',\n",
       "       'Inbox,Important,Category personal,Unread',\n",
       "       'Inbox,Important,Opened,Category promotions', 'Archived,Sent',\n",
       "       'Inbox,Opened,Category promotions', 'Sent,Opened',\n",
       "       'Category purchases,Inbox,Important,Category updates,Unread',\n",
       "       'Inbox,Important,Opened,Category personal,Starred',\n",
       "       'Archived,Category updates,Unread',\n",
       "       'Inbox,Important,Category promotions,Unread',\n",
       "       'Category purchases,Inbox,Opened,Category updates',\n",
       "       'Inbox,Category updates', 'Inbox,Category personal,Starred,Unread',\n",
       "       'Spam,Category promotions,Unread',\n",
       "       'Inbox,Category updates,Starred,Unread',\n",
       "       'Bin,Opened,Category updates,Starred',\n",
       "       'Bin,Category personal,Unread',\n",
       "       'Category purchases,Inbox,Important,Opened,Category updates',\n",
       "       'Archived,Sent,Opened', 'Archived,Opened,Category personal',\n",
       "       'Bin,Opened,Category personal', 'Spam,Category personal,Unread',\n",
       "       'Inbox,Important,Opened,Category social',\n",
       "       'Archived,Important,Opened,Category updates',\n",
       "       'Inbox,Opened,Category social',\n",
       "       'Archived,Important,Category updates,Unread',\n",
       "       'Archived,Opened,Category updates', 'Sent',\n",
       "       'Archived,Important,Category personal,Unread',\n",
       "       'Archived,Category promotions,Unread',\n",
       "       'Inbox,Category forums,Unread', 'Inbox,Opened,Category forums',\n",
       "       'Archived,Important,Category forums,Unread'], dtype=object)"
      ]
     },
     "execution_count": 70,
     "metadata": {},
     "output_type": "execute_result"
    }
   ],
   "source": [
    "gmail_data['label'].unique()"
   ]
  },
  {
   "cell_type": "code",
   "execution_count": null,
   "id": "b477b396-9f6a-42ca-b949-df89c190a9db",
   "metadata": {},
   "outputs": [],
   "source": []
  }
 ],
 "metadata": {
  "kernelspec": {
   "display_name": "Python [conda env:base] *",
   "language": "python",
   "name": "conda-base-py"
  },
  "language_info": {
   "codemirror_mode": {
    "name": "ipython",
    "version": 3
   },
   "file_extension": ".py",
   "mimetype": "text/x-python",
   "name": "python",
   "nbconvert_exporter": "python",
   "pygments_lexer": "ipython3",
   "version": "3.13.5"
  }
 },
 "nbformat": 4,
 "nbformat_minor": 5
}
